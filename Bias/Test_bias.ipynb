{
  "nbformat": 4,
  "nbformat_minor": 0,
  "metadata": {
    "colab": {
      "provenance": []
    },
    "kernelspec": {
      "name": "python3",
      "display_name": "Python 3"
    },
    "language_info": {
      "name": "python"
    }
  },
  "cells": [
    {
      "cell_type": "code",
      "execution_count": 5,
      "metadata": {
        "id": "qY-Wdh2dO2hi",
        "colab": {
          "base_uri": "https://localhost:8080/"
        },
        "outputId": "c1f7dfa9-1ff1-4469-b2bc-36433cd914cb"
      },
      "outputs": [
        {
          "output_type": "stream",
          "name": "stdout",
          "text": [
            "Collecting aif360\n",
            "  Downloading aif360-0.6.1-py3-none-any.whl.metadata (5.0 kB)\n",
            "Requirement already satisfied: numpy>=1.16 in /usr/local/lib/python3.11/dist-packages (from aif360) (2.0.2)\n",
            "Requirement already satisfied: scipy>=1.2.0 in /usr/local/lib/python3.11/dist-packages (from aif360) (1.14.1)\n",
            "Requirement already satisfied: pandas>=0.24.0 in /usr/local/lib/python3.11/dist-packages (from aif360) (2.2.2)\n",
            "Requirement already satisfied: scikit-learn>=1.0 in /usr/local/lib/python3.11/dist-packages (from aif360) (1.6.1)\n",
            "Requirement already satisfied: matplotlib in /usr/local/lib/python3.11/dist-packages (from aif360) (3.10.0)\n",
            "Requirement already satisfied: python-dateutil>=2.8.2 in /usr/local/lib/python3.11/dist-packages (from pandas>=0.24.0->aif360) (2.8.2)\n",
            "Requirement already satisfied: pytz>=2020.1 in /usr/local/lib/python3.11/dist-packages (from pandas>=0.24.0->aif360) (2025.1)\n",
            "Requirement already satisfied: tzdata>=2022.7 in /usr/local/lib/python3.11/dist-packages (from pandas>=0.24.0->aif360) (2025.1)\n",
            "Requirement already satisfied: joblib>=1.2.0 in /usr/local/lib/python3.11/dist-packages (from scikit-learn>=1.0->aif360) (1.4.2)\n",
            "Requirement already satisfied: threadpoolctl>=3.1.0 in /usr/local/lib/python3.11/dist-packages (from scikit-learn>=1.0->aif360) (3.6.0)\n",
            "Requirement already satisfied: contourpy>=1.0.1 in /usr/local/lib/python3.11/dist-packages (from matplotlib->aif360) (1.3.1)\n",
            "Requirement already satisfied: cycler>=0.10 in /usr/local/lib/python3.11/dist-packages (from matplotlib->aif360) (0.12.1)\n",
            "Requirement already satisfied: fonttools>=4.22.0 in /usr/local/lib/python3.11/dist-packages (from matplotlib->aif360) (4.56.0)\n",
            "Requirement already satisfied: kiwisolver>=1.3.1 in /usr/local/lib/python3.11/dist-packages (from matplotlib->aif360) (1.4.8)\n",
            "Requirement already satisfied: packaging>=20.0 in /usr/local/lib/python3.11/dist-packages (from matplotlib->aif360) (24.2)\n",
            "Requirement already satisfied: pillow>=8 in /usr/local/lib/python3.11/dist-packages (from matplotlib->aif360) (11.1.0)\n",
            "Requirement already satisfied: pyparsing>=2.3.1 in /usr/local/lib/python3.11/dist-packages (from matplotlib->aif360) (3.2.1)\n",
            "Requirement already satisfied: six>=1.5 in /usr/local/lib/python3.11/dist-packages (from python-dateutil>=2.8.2->pandas>=0.24.0->aif360) (1.17.0)\n",
            "Downloading aif360-0.6.1-py3-none-any.whl (259 kB)\n",
            "\u001b[2K   \u001b[90m━━━━━━━━━━━━━━━━━━━━━━━━━━━━━━━━━━━━━━━━\u001b[0m \u001b[32m259.7/259.7 kB\u001b[0m \u001b[31m7.0 MB/s\u001b[0m eta \u001b[36m0:00:00\u001b[0m\n",
            "\u001b[?25hInstalling collected packages: aif360\n",
            "Successfully installed aif360-0.6.1\n",
            "Collecting BlackBoxAuditing\n",
            "  Downloading BlackBoxAuditing-0.1.54.tar.gz (2.6 MB)\n",
            "\u001b[2K     \u001b[90m━━━━━━━━━━━━━━━━━━━━━━━━━━━━━━━━━━━━━━━━\u001b[0m \u001b[32m2.6/2.6 MB\u001b[0m \u001b[31m43.1 MB/s\u001b[0m eta \u001b[36m0:00:00\u001b[0m\n",
            "\u001b[?25h  Preparing metadata (setup.py) ... \u001b[?25l\u001b[?25hdone\n",
            "Requirement already satisfied: networkx in /usr/local/lib/python3.11/dist-packages (from BlackBoxAuditing) (3.4.2)\n",
            "Requirement already satisfied: matplotlib in /usr/local/lib/python3.11/dist-packages (from BlackBoxAuditing) (3.10.0)\n",
            "Requirement already satisfied: pandas in /usr/local/lib/python3.11/dist-packages (from BlackBoxAuditing) (2.2.2)\n",
            "Requirement already satisfied: numpy in /usr/local/lib/python3.11/dist-packages (from BlackBoxAuditing) (2.0.2)\n",
            "Requirement already satisfied: contourpy>=1.0.1 in /usr/local/lib/python3.11/dist-packages (from matplotlib->BlackBoxAuditing) (1.3.1)\n",
            "Requirement already satisfied: cycler>=0.10 in /usr/local/lib/python3.11/dist-packages (from matplotlib->BlackBoxAuditing) (0.12.1)\n",
            "Requirement already satisfied: fonttools>=4.22.0 in /usr/local/lib/python3.11/dist-packages (from matplotlib->BlackBoxAuditing) (4.56.0)\n",
            "Requirement already satisfied: kiwisolver>=1.3.1 in /usr/local/lib/python3.11/dist-packages (from matplotlib->BlackBoxAuditing) (1.4.8)\n",
            "Requirement already satisfied: packaging>=20.0 in /usr/local/lib/python3.11/dist-packages (from matplotlib->BlackBoxAuditing) (24.2)\n",
            "Requirement already satisfied: pillow>=8 in /usr/local/lib/python3.11/dist-packages (from matplotlib->BlackBoxAuditing) (11.1.0)\n",
            "Requirement already satisfied: pyparsing>=2.3.1 in /usr/local/lib/python3.11/dist-packages (from matplotlib->BlackBoxAuditing) (3.2.1)\n",
            "Requirement already satisfied: python-dateutil>=2.7 in /usr/local/lib/python3.11/dist-packages (from matplotlib->BlackBoxAuditing) (2.8.2)\n",
            "Requirement already satisfied: pytz>=2020.1 in /usr/local/lib/python3.11/dist-packages (from pandas->BlackBoxAuditing) (2025.1)\n",
            "Requirement already satisfied: tzdata>=2022.7 in /usr/local/lib/python3.11/dist-packages (from pandas->BlackBoxAuditing) (2025.1)\n",
            "Requirement already satisfied: six>=1.5 in /usr/local/lib/python3.11/dist-packages (from python-dateutil>=2.7->matplotlib->BlackBoxAuditing) (1.17.0)\n",
            "Building wheels for collected packages: BlackBoxAuditing\n",
            "  Building wheel for BlackBoxAuditing (setup.py) ... \u001b[?25l\u001b[?25hdone\n",
            "  Created wheel for BlackBoxAuditing: filename=BlackBoxAuditing-0.1.54-py2.py3-none-any.whl size=1394756 sha256=75aee4968959ac6e44557b8bf7f95220b71f0c89c49734104a35ffa05d9bbec3\n",
            "  Stored in directory: /root/.cache/pip/wheels/c9/8c/03/073e80e604151fb4cdc68b2e56a97f338d7723e4a4ab5e3823\n",
            "Successfully built BlackBoxAuditing\n",
            "Installing collected packages: BlackBoxAuditing\n",
            "Successfully installed BlackBoxAuditing-0.1.54\n",
            "Collecting fairlearn\n",
            "  Downloading fairlearn-0.12.0-py3-none-any.whl.metadata (7.0 kB)\n",
            "Requirement already satisfied: numpy>=1.24.4 in /usr/local/lib/python3.11/dist-packages (from fairlearn) (2.0.2)\n",
            "Requirement already satisfied: pandas>=2.0.3 in /usr/local/lib/python3.11/dist-packages (from fairlearn) (2.2.2)\n",
            "Requirement already satisfied: scikit-learn>=1.2.1 in /usr/local/lib/python3.11/dist-packages (from fairlearn) (1.6.1)\n",
            "Requirement already satisfied: scipy>=1.9.3 in /usr/local/lib/python3.11/dist-packages (from fairlearn) (1.14.1)\n",
            "Requirement already satisfied: python-dateutil>=2.8.2 in /usr/local/lib/python3.11/dist-packages (from pandas>=2.0.3->fairlearn) (2.8.2)\n",
            "Requirement already satisfied: pytz>=2020.1 in /usr/local/lib/python3.11/dist-packages (from pandas>=2.0.3->fairlearn) (2025.1)\n",
            "Requirement already satisfied: tzdata>=2022.7 in /usr/local/lib/python3.11/dist-packages (from pandas>=2.0.3->fairlearn) (2025.1)\n",
            "Requirement already satisfied: joblib>=1.2.0 in /usr/local/lib/python3.11/dist-packages (from scikit-learn>=1.2.1->fairlearn) (1.4.2)\n",
            "Requirement already satisfied: threadpoolctl>=3.1.0 in /usr/local/lib/python3.11/dist-packages (from scikit-learn>=1.2.1->fairlearn) (3.6.0)\n",
            "Requirement already satisfied: six>=1.5 in /usr/local/lib/python3.11/dist-packages (from python-dateutil>=2.8.2->pandas>=2.0.3->fairlearn) (1.17.0)\n",
            "Downloading fairlearn-0.12.0-py3-none-any.whl (240 kB)\n",
            "\u001b[2K   \u001b[90m━━━━━━━━━━━━━━━━━━━━━━━━━━━━━━━━━━━━━━━━\u001b[0m \u001b[32m240.0/240.0 kB\u001b[0m \u001b[31m5.6 MB/s\u001b[0m eta \u001b[36m0:00:00\u001b[0m\n",
            "\u001b[?25hInstalling collected packages: fairlearn\n",
            "Successfully installed fairlearn-0.12.0\n"
          ]
        }
      ],
      "source": [
        "!pip install aif360\n",
        "!pip install BlackBoxAuditing\n",
        "!pip install fairlearn"
      ]
    },
    {
      "cell_type": "code",
      "source": [
        "import pandas as pd\n",
        "import numpy as np"
      ],
      "metadata": {
        "id": "BUSSFlVFUAAC"
      },
      "execution_count": 6,
      "outputs": []
    },
    {
      "cell_type": "code",
      "source": [
        "from sklearn.model_selection import train_test_split\n",
        "from sklearn.preprocessing import StandardScaler\n",
        "from sklearn.linear_model import LogisticRegression\n",
        "from sklearn.metrics import accuracy_score, classification_report\n",
        "from aif360.datasets import StandardDataset\n",
        "from aif360.algorithms.preprocessing import Reweighing\n",
        "from aif360.metrics import BinaryLabelDatasetMetric\n",
        "from aif360.algorithms.postprocessing import EqOddsPostprocessing"
      ],
      "metadata": {
        "colab": {
          "base_uri": "https://localhost:8080/"
        },
        "id": "PYTrcBPgTm0a",
        "outputId": "6a2db823-6f41-4492-f3f6-d6bcc875dba5"
      },
      "execution_count": 7,
      "outputs": [
        {
          "output_type": "stream",
          "name": "stderr",
          "text": [
            "WARNING:root:No module named 'inFairness': SenSeI and SenSR will be unavailable. To install, run:\n",
            "pip install 'aif360[inFairness]'\n"
          ]
        }
      ]
    },
    {
      "cell_type": "code",
      "source": [
        "\n",
        "# Set random seed for reproducibility\n",
        "np.random.seed(42)\n",
        "\n",
        "# Generate 100 entries (50 Male, 50 Female)\n",
        "num_samples = 100\n",
        "genders = ['Male'] * 50 + ['Female'] * 50\n",
        "np.random.shuffle(genders)  # Shuffle gender order\n",
        "\n",
        "# Age: Different distributions by gender (males slightly older on average)\n",
        "ages = []\n",
        "for gender in genders:\n",
        "    if gender == 'Male':\n",
        "        ages.append(int(np.random.normal(loc=38, scale=8)))\n",
        "    else:\n",
        "        ages.append(int(np.random.normal(loc=35, scale=7)))\n",
        "ages = np.clip(ages, 22, 60)  # Cap ages between 22-60\n",
        "\n",
        "# Experience: Correlated with age but more varied for males\n",
        "experiences = []\n",
        "for age, gender in zip(ages, genders):\n",
        "    base_exp = age - 22  # Minimum hiring age\n",
        "    if gender == 'Male':\n",
        "        experiences.append(int(base_exp + np.random.normal(scale=3)))\n",
        "    else:\n",
        "        experiences.append(int(base_exp + np.random.normal(scale=2)))\n",
        "experiences = np.clip(experiences, 0, 40)  # Cap experience\n",
        "\n",
        "# Hiring decision: Biased against females\n",
        "hired = []\n",
        "for age, gender, exp in zip(ages, genders, experiences):\n",
        "    # Base probability increases with experience\n",
        "    prob = 0.3 + 0.5 * (exp / 20)\n",
        "\n",
        "    # Strong bias against females\n",
        "    if gender == 'Female':\n",
        "        prob *= 0.5  # 50% less likely to be hired\n",
        "\n",
        "    # Final hiring decision with some randomness\n",
        "    hired.append(int(np.random.random() < prob))\n",
        "\n",
        "# Create DataFrame\n",
        "data = pd.DataFrame({\n",
        "    'Age': ages,\n",
        "    'Gender': genders,\n",
        "    'Experience': experiences,\n",
        "    'Hired': hired\n",
        "})\n",
        "\n",
        "# Verify distributions\n",
        "print(\"Hiring rates by gender:\")\n",
        "print(data.groupby('Gender')['Hired'].mean())\n",
        "\n",
        "print(\"\\nAverage experience by gender:\")\n",
        "print(data.groupby('Gender')['Experience'].mean())\n",
        "\n",
        "print(\"\\nFirst 100 entries:\")\n",
        "print(data.head(100))"
      ],
      "metadata": {
        "colab": {
          "base_uri": "https://localhost:8080/"
        },
        "id": "uaunDNhKUOMh",
        "outputId": "9c353ed6-fae0-4622-9f03-494b03764643"
      },
      "execution_count": 18,
      "outputs": [
        {
          "output_type": "stream",
          "name": "stdout",
          "text": [
            "Hiring rates by gender:\n",
            "Gender\n",
            "Female    0.36\n",
            "Male      0.70\n",
            "Name: Hired, dtype: float64\n",
            "\n",
            "Average experience by gender:\n",
            "Gender\n",
            "Female    12.24\n",
            "Male      15.64\n",
            "Name: Experience, dtype: float64\n",
            "\n",
            "First 100 entries:\n",
            "    Age  Gender  Experience  Hired\n",
            "0    39  Female          13      0\n",
            "1    28  Female           6      0\n",
            "2    38  Female          18      1\n",
            "3    48    Male          26      1\n",
            "4    39    Male          15      1\n",
            "..  ...     ...         ...    ...\n",
            "95   41  Female          17      0\n",
            "96   36  Female          13      0\n",
            "97   26    Male           1      1\n",
            "98   27  Female           4      1\n",
            "99   40  Female          18      0\n",
            "\n",
            "[100 rows x 4 columns]\n"
          ]
        }
      ]
    },
    {
      "cell_type": "code",
      "source": [
        "\n",
        "# Convert categorical Gender column to binary\n",
        "data['Gender'] = data['Gender'].map({'Male': 1, 'Female': 0})\n",
        "\n",
        "# Define privileged and unprivileged groups\n",
        "privileged_groups = [{'Gender': 1}]\n",
        "unprivileged_groups = [{'Gender': 0}]\n"
      ],
      "metadata": {
        "id": "XWlvhzlHURQ5"
      },
      "execution_count": 19,
      "outputs": []
    },
    {
      "cell_type": "code",
      "source": [
        "\n",
        "# Convert to AIF360 dataset\n",
        "aif_data = StandardDataset(\n",
        "    df=data,\n",
        "    label_name='Hired',\n",
        "    favorable_classes=[1],\n",
        "    protected_attribute_names=['Gender'],  # Removed 'Age' as it's not used for fairness\n",
        "    privileged_classes=[[1]],  # Only Gender is used for fairness\n",
        "    instance_weights_name=None\n",
        ")\n"
      ],
      "metadata": {
        "id": "5-6Lm7I5UUCB"
      },
      "execution_count": 21,
      "outputs": []
    },
    {
      "cell_type": "code",
      "source": [
        "\n",
        "# Analyze bias before mitigation\n",
        "metric = BinaryLabelDatasetMetric(aif_data,\n",
        "                                unprivileged_groups=unprivileged_groups,\n",
        "                                privileged_groups=privileged_groups)\n",
        "print(f\"Statistical Parity Difference (Before Mitigation): {metric.statistical_parity_difference()}\")\n",
        "print(f\"Disparate Impact (Before Mitigation): {metric.disparate_impact()}\")\n"
      ],
      "metadata": {
        "colab": {
          "base_uri": "https://localhost:8080/"
        },
        "id": "D5pVxT2lUWjJ",
        "outputId": "596fd59d-6537-4a04-839e-7279f0e32997"
      },
      "execution_count": 22,
      "outputs": [
        {
          "output_type": "stream",
          "name": "stdout",
          "text": [
            "Statistical Parity Difference (Before Mitigation): -0.33999999999999997\n",
            "Disparate Impact (Before Mitigation): 0.5142857142857143\n"
          ]
        }
      ]
    },
    {
      "cell_type": "code",
      "source": [
        "\n",
        "# Apply Reweighing to mitigate bias\n",
        "rw = Reweighing(privileged_groups=privileged_groups,\n",
        "               unprivileged_groups=unprivileged_groups)\n",
        "reweighted_data = rw.fit_transform(aif_data)\n",
        "\n",
        "# Split data into training and test sets (before scaling)\n",
        "train, test = reweighted_data.split([0.8], shuffle=True, seed=42)\n"
      ],
      "metadata": {
        "id": "dbAueoT4UZhB"
      },
      "execution_count": 23,
      "outputs": []
    },
    {
      "cell_type": "code",
      "source": [
        "\n",
        "# Standardize features\n",
        "scaler = StandardScaler()\n",
        "X_train = train.features\n",
        "y_train = train.labels.ravel()\n",
        "X_test = test.features\n",
        "y_test = test.labels.ravel()\n",
        "\n",
        "X_train_scaled = scaler.fit_transform(X_train)\n",
        "X_test_scaled = scaler.transform(X_test)\n"
      ],
      "metadata": {
        "id": "PJqRxq1aUb2B"
      },
      "execution_count": 24,
      "outputs": []
    },
    {
      "cell_type": "code",
      "source": [
        "\n",
        "# Train Logistic Regression model\n",
        "model = LogisticRegression()\n",
        "model.fit(X_train_scaled, y_train)\n",
        "\n",
        "# Evaluate model\n",
        "preds = model.predict(X_test_scaled)\n",
        "print(\"\\nModel Accuracy After Bias Mitigation:\", accuracy_score(y_test, preds))\n",
        "print(\"\\nClassification Report:\")\n",
        "print(classification_report(y_test, preds))\n"
      ],
      "metadata": {
        "colab": {
          "base_uri": "https://localhost:8080/"
        },
        "id": "rvlX7Rj8UdvR",
        "outputId": "729fd563-45c4-4b1d-8044-85a64e1a22a2"
      },
      "execution_count": 25,
      "outputs": [
        {
          "output_type": "stream",
          "name": "stdout",
          "text": [
            "\n",
            "Model Accuracy After Bias Mitigation: 0.55\n",
            "\n",
            "Classification Report:\n",
            "              precision    recall  f1-score   support\n",
            "\n",
            "         0.0       0.36      0.67      0.47         6\n",
            "         1.0       0.78      0.50      0.61        14\n",
            "\n",
            "    accuracy                           0.55        20\n",
            "   macro avg       0.57      0.58      0.54        20\n",
            "weighted avg       0.65      0.55      0.57        20\n",
            "\n"
          ]
        }
      ]
    },
    {
      "cell_type": "code",
      "source": [
        "\n",
        "# Create a copy of the test dataset for fairness evaluation\n",
        "aif_test = test.copy()\n",
        "aif_test.labels = preds.reshape(-1, 1)\n",
        "\n",
        "# Evaluate fairness after mitigation\n",
        "metric_after = BinaryLabelDatasetMetric(aif_test,\n",
        "                                      unprivileged_groups=unprivileged_groups,\n",
        "                                      privileged_groups=privileged_groups)\n",
        "print(f\"\\nStatistical Parity Difference (After Mitigation): {metric_after.statistical_parity_difference()}\")\n",
        "print(f\"Disparate Impact (After Mitigation): {metric_after.disparate_impact()}\")"
      ],
      "metadata": {
        "colab": {
          "base_uri": "https://localhost:8080/"
        },
        "id": "xKfWpNsnUffZ",
        "outputId": "cc6f5a67-0920-49ee-b1eb-c4b187c897bb"
      },
      "execution_count": 26,
      "outputs": [
        {
          "output_type": "stream",
          "name": "stdout",
          "text": [
            "\n",
            "Statistical Parity Difference (After Mitigation): -0.557826495567313\n",
            "Disparate Impact (After Mitigation): 0.2299994359706068\n"
          ]
        }
      ]
    }
  ]
}